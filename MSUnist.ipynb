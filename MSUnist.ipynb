{
  "cells": [
    {
      "cell_type": "markdown",
      "metadata": {},
      "source": [
        "<h1 align = \"center\"> MSU-NIST </h1>\n",
        "\n",
        "## CS:3210 Machine Learning Final Project\n",
        "### Professor: Feng Jiang \n",
        "\n",
        "\n",
        "#### Team Members:\n",
        "* **Ling Thang**\n",
        "* **Joaquin Trujillo**\n",
        "\n",
        "#### Project Description:\n",
        "For our Final project we have decided to work on the classic digit recognition problem. Taking a spin on the classic MNSIT dataset we have decided to collect our own dataset from study around the Auraria campus housing the three schools MSU Denver, CU Denver, and CCD. We decided to take this approach because we believe that as machine learning students it is not only important to understand not just the application of machine learning but also the data collection, cleaning, and preprocessing that goes into it. We believe that this will give us a better understanding of the process and the challenges that come with it as well as the importance of data quality."
      ]
    },
    {
      "cell_type": "code",
      "execution_count": 149,
      "metadata": {},
      "outputs": [],
      "source": [
        "# Standard library imports\n",
        "import os\n",
        "from PIL import Image\n",
        "\n",
        "# Third-party library imports\n",
        "import numpy as np\n",
        "import cv2\n",
        "\n",
        "from sklearn.model_selection import train_test_split\n",
        "from sklearn.metrics import classification_report\n",
        "\n",
        "from keras.models import Sequential\n",
        "from keras.layers import Dense, Flatten, Conv2D, MaxPooling2D, Dropout, BatchNormalization\n",
        "from keras.utils import to_categorical\n",
        "\n",
        "from tensorflow.keras.preprocessing.image import ImageDataGenerator\n",
        "from tensorflow.keras.optimizers import Adam"
      ]
    },
    {
      "cell_type": "markdown",
      "metadata": {},
      "source": [
        "# Naigate to the folder and create classes for Digit Recognition"
      ]
    },
    {
      "cell_type": "code",
      "execution_count": 150,
      "metadata": {},
      "outputs": [
        {
          "name": "stdout",
          "output_type": "stream",
          "text": [
            "['0', '1', '2', '3', '4', '5', '6', '7', '8', '9']\n"
          ]
        }
      ],
      "source": [
        "data_dir = 'Data'\n",
        "# classes but only the directories\n",
        "files = os.listdir(data_dir)\n",
        "classes = [f for f in files if os.path.isdir(os.path.join(data_dir, f))]\n",
        "\n",
        "print(sorted(classes))"
      ]
    },
    {
      "cell_type": "markdown",
      "metadata": {},
      "source": [
        "# Preprocessing the data \n",
        "\n",
        "## create two arrays X and y\n",
        "\n",
        "## Loop through the "
      ]
    },
    {
      "cell_type": "code",
      "execution_count": 151,
      "metadata": {},
      "outputs": [
        {
          "name": "stdout",
          "output_type": "stream",
          "text": [
            "9: 100\n"
          ]
        },
        {
          "name": "stdout",
          "output_type": "stream",
          "text": [
            "0: 100\n",
            "7: 100\n",
            "6: 100\n",
            "1: 100\n",
            "8: 100\n",
            "4: 100\n",
            "3: 100\n",
            "2: 100\n",
            "5: 100\n",
            "(1000, 28, 28, 4)\n"
          ]
        }
      ],
      "source": [
        "# Create empty np arrarys to store the images and labels\n",
        "X = []\n",
        "y = []\n",
        "\n",
        "# Loop through the classes\n",
        "for i, c in enumerate(classes):\n",
        "    files = os.listdir(os.path.join(data_dir, c))\n",
        "    files = [f for f in files if f.endswith('.png')]\n",
        "    \n",
        "    # print the number of files in each class\n",
        "    print(f'{c}: {len(files)}')\n",
        "\n",
        "    # Loop through the images\n",
        "    for f in files:\n",
        "        img = Image.open(os.path.join(data_dir, c, f))\n",
        "        img = img.resize((28, 28))\n",
        "        img = np.array(img)\n",
        "        img = img / 255\n",
        "        img = img.astype(np.float32)\n",
        "        X.append(img)\n",
        "        y.append(i)\n",
        "\n",
        "# Convert lists to arrays\n",
        "X = np.array(X)\n",
        "y = np.array(y)\n",
        "\n",
        "print(X.shape)"
      ]
    },
    {
      "cell_type": "code",
      "execution_count": 152,
      "metadata": {},
      "outputs": [
        {
          "name": "stdout",
          "output_type": "stream",
          "text": [
            "(1000, 28, 28, 4)\n",
            "(1000,)\n",
            "X_train shape: (800, 28, 28, 4)\n",
            "(800, 10)\n"
          ]
        }
      ],
      "source": [
        "# print the shape of the arrays\n",
        "print(X.shape)\n",
        "print(y.shape)\n",
        "\n",
        "# Split the data into training and testing sets\n",
        "X_train, X_test, y_train, y_test = train_test_split(X, y, test_size=0.2, random_state=42, stratify=y)\n",
        "\n",
        "# Convert the labels to one-hot encoding\n",
        "y_train = to_categorical(y_train)\n",
        "y_test = to_categorical(y_test)\n",
        "\n",
        "# Save the data\n",
        "np.save('X_train.npy', X_train)\n",
        "np.save('X_test.npy', X_test)\n",
        "np.save('y_train.npy', y_train)\n",
        "np.save('y_test.npy', y_test)\n",
        "np.save('classes.npy', classes)\n",
        "\n",
        "#print('Data saved')\n",
        "print('X_train shape:', X_train.shape)\n",
        "print (y_train.shape)\n"
      ]
    },
    {
      "cell_type": "code",
      "execution_count": 153,
      "metadata": {},
      "outputs": [
        {
          "name": "stdout",
          "output_type": "stream",
          "text": [
            "Data loaded\n",
            "(800, 28, 28, 4)\n",
            "(200, 28, 28, 4)\n",
            "(800, 10)\n",
            "(200, 10)\n",
            "['0', '1', '2', '3', '4', '5', '6', '7', '8', '9']\n"
          ]
        }
      ],
      "source": [
        "# Load the data\n",
        "X_train = np.load('X_train.npy')\n",
        "X_test = np.load('X_test.npy')\n",
        "y_train = np.load('y_train.npy')\n",
        "y_test = np.load('y_test.npy')\n",
        "classes = np.load('classes.npy')\n",
        "\n",
        "print('Data loaded')\n",
        "print(X_train.shape)\n",
        "print(X_test.shape)\n",
        "print(y_train.shape)\n",
        "print(y_test.shape)\n",
        "print(sorted(classes))\n",
        "\n"
      ]
    },
    {
      "cell_type": "code",
      "execution_count": 154,
      "metadata": {},
      "outputs": [
        {
          "data": {
            "image/png": "[encoded data removed]",
            "text/plain": [
              "<Figure size 1000x500 with 10 Axes>"
            ]
          },
          "metadata": {},
          "output_type": "display_data"
        }
      ],
      "source": [
        "# print a random sample images\n",
        "import matplotlib.pyplot as plt\n",
        "\n",
        "fig, axes = plt.subplots(2, 5, figsize=(10, 5))\n",
        "axes = axes.ravel()\n",
        "\n",
        "for i in range(10):\n",
        "    idx = np.random.randint(0, X_train.shape[0])\n",
        "    axes[i].imshow(X_train[idx])\n",
        "    axes[i].set_title(classes[np.argmax(y_train[idx])])\n",
        "    axes[i].axis('off')\n",
        "\n",
        "plt.tight_layout()\n",
        "plt.show()"
      ]
    },
    {
      "cell_type": "code",
      "execution_count": 155,
      "metadata": {},
      "outputs": [
        {
          "name": "stdout",
          "output_type": "stream",
          "text": [
            "Class 0: 80 samples\n",
            "Class 1: 80 samples\n",
            "Class 2: 80 samples\n",
            "Class 3: 80 samples\n",
            "Class 4: 80 samples\n",
            "Class 5: 80 samples\n",
            "Class 6: 80 samples\n",
            "Class 7: 80 samples\n",
            "Class 8: 80 samples\n",
            "Class 9: 80 samples\n",
            "Number of samples in balanced dataset: 800\n",
            "Shape of augmented dataset: (8000, 28, 28, 4)\n",
            "Shape of augmented labels: (8000, 10)\n",
            "Number of classes: 10\n",
            "Number of unique classes in y_train: 10\n",
            "Shape of X_train: (800, 28, 28, 4)\n",
            "Shape of y_train: (800, 10)\n"
          ]
        }
      ],
      "source": [
        "# data augmentation\n",
        "datagen = ImageDataGenerator(\n",
        "      #rotation_range=10,  \n",
        "        zoom_range = 0.10,  \n",
        "        width_shift_range=0.1, \n",
        "        height_shift_range=0.1)\n",
        "\n",
        "augmented_X = []\n",
        "augmented_y = []\n",
        "\n",
        "def balance_dataset(X, y):\n",
        "    balanced_X = []\n",
        "    balanced_y = []\n",
        "    num_classes = y.shape[1]\n",
        "    for c in range(num_classes):\n",
        "        indices = [i for i, label in enumerate(y) if np.argmax(label) == c]\n",
        "        print(f\"Class {c}: {len(indices)} samples\")\n",
        "        if len(indices) < 1:\n",
        "            continue  # Skip if the class has no samples\n",
        "        num_samples_per_class = min(np.sum([1 for label in y if np.argmax(label) == c]), len(indices))\n",
        "        selected_indices = np.random.choice(indices, num_samples_per_class, replace=True)\n",
        "        balanced_X.extend([X[i] for i in selected_indices])\n",
        "        balanced_y.extend([y[i] for i in selected_indices])\n",
        "    return balanced_X, np.array(balanced_y)\n",
        "\n",
        "# Balance the dataset\n",
        "balanced_X_train, balanced_y_train = balance_dataset(X_train, y_train)\n",
        "print(\"Number of samples in balanced dataset:\", len(balanced_X_train))\n",
        "\n",
        "# Now, apply data augmentation to the balanced dataset\n",
        "# Generate augmented data for each sample in the balanced dataset\n",
        "for i in range(len(balanced_X_train)):\n",
        "    X_train_example = balanced_X_train[i].reshape((1, 28, 28, 4))\n",
        "    y_train_example = balanced_y_train[i].reshape((1, 10))  # Reshape to (1, 10) as it's one-hot encoded\n",
        "    num_augmented_samples = 10  # You can adjust the number of augmented samples per original sample\n",
        "    for _ in range(num_augmented_samples):\n",
        "        X_train_augmented, y_train_augmented = datagen.flow(X_train_example, y_train_example).__next__()\n",
        "        # Reshape augmented data to remove extra dimension\n",
        "        X_train_augmented = X_train_augmented.squeeze(axis=0)\n",
        "        y_train_augmented = y_train_augmented.squeeze(axis=0)\n",
        "        augmented_X.append(X_train_augmented)\n",
        "        augmented_y.append(y_train_augmented)\n",
        "\n",
        "# Convert lists to numpy arrays\n",
        "augmented_X = np.array(augmented_X)\n",
        "augmented_y = np.array(augmented_y)\n",
        "\n",
        "# Print the shape of the augmented dataset\n",
        "print(\"Shape of augmented dataset:\", augmented_X.shape)\n",
        "print(\"Shape of augmented labels:\", augmented_y.shape)\n",
        "print(\"Number of classes:\", len(classes))\n",
        "print(\"Number of unique classes in y_train:\", len(np.unique(np.argmax(y_train, axis=1))))\n",
        "print(\"Shape of X_train:\", X_train.shape)\n",
        "print(\"Shape of y_train:\", y_train.shape)"
      ]
    },
    {
      "cell_type": "code",
      "execution_count": 156,
      "metadata": {},
      "outputs": [
        {
          "name": "stdout",
          "output_type": "stream",
          "text": [
            "9: 800\n",
            "0: 800\n",
            "7: 800\n",
            "6: 800\n",
            "1: 800\n",
            "8: 800\n",
            "4: 800\n",
            "3: 800\n",
            "2: 800\n",
            "5: 800\n"
          ]
        }
      ],
      "source": [
        "for i, c in enumerate(classes):\n",
        "    print(f'{c}: {np.sum(np.argmax(augmented_y, axis=1) == i)}')"
      ]
    },
    {
      "cell_type": "code",
      "execution_count": 157,
      "metadata": {},
      "outputs": [],
      "source": [
        "model = Sequential()\n",
        "model.add(Conv2D(32, kernel_size=(3, 3), padding=\"same\", activation='relu', input_shape=(28, 28, 4)))\n",
        "model.add(MaxPooling2D(pool_size=(2, 2)))\n",
        "model.add(Conv2D(64, kernel_size=(3, 3), padding=\"same\", activation='relu'))\n",
        "model.add(MaxPooling2D(pool_size=(2, 2)))\n",
        "model.add(Conv2D(128, kernel_size=(3, 3), padding=\"same\", activation='relu'))\n",
        "model.add(MaxPooling2D(pool_size=(2, 2)))\n",
        "model.add(Flatten())\n",
        "model.add(Dense(256, activation='relu'))\n",
        "model.add(Dropout(0.5))\n",
        "model.add(Dense(128, activation='relu'))\n",
        "model.add(Dropout(0.5))\n",
        "model.add(Dense(10, activation='softmax'))\n",
        "\n",
        "\n",
        "def intialize_model_train(model,epoch, batch_size):\n",
        "\tprint(\"******* training network *******\")\n",
        "# Compile the model with Adam optimizer\n",
        "\tadam_optimizer = Adam(learning_rate=0.001)  # You can adjust the learning rate as needed\n",
        "\tmodel.compile(loss=\"categorical_crossentropy\", optimizer=adam_optimizer, metrics=[\"accuracy\"])\n",
        "\t# go through the data 5 times with 128 batch sizes\n",
        "\tH = model.fit(augmented_X,augmented_y, validation_data=(X_test, y_test),\n",
        "\t\tepochs=epoch, batch_size=batch_size)\n",
        "\n",
        "\t# evaluate the network\n",
        "\tprint(\"******* evaluating network *******\")\n",
        "\tpredictions = model.predict(X_test, batch_size=batch_size)\n",
        "\tprint(classification_report(y_test.argmax(axis=1),\n",
        "\t\tpredictions.argmax(axis=1)))"
      ]
    },
    {
      "cell_type": "code",
      "execution_count": 158,
      "metadata": {},
      "outputs": [
        {
          "name": "stdout",
          "output_type": "stream",
          "text": [
            "******* training network *******\n",
            "Epoch 1/9\n",
            "80/80 [==============================] - 15s 173ms/step - loss: 2.3069 - accuracy: 0.1064 - val_loss: 2.3013 - val_accuracy: 0.1050\n",
            "Epoch 2/9\n",
            "80/80 [==============================] - 12s 146ms/step - loss: 2.1911 - accuracy: 0.1874 - val_loss: 1.6174 - val_accuracy: 0.4550\n",
            "Epoch 3/9\n",
            "80/80 [==============================] - 12s 145ms/step - loss: 1.5246 - accuracy: 0.4605 - val_loss: 0.9538 - val_accuracy: 0.6900\n",
            "Epoch 4/9\n",
            "80/80 [==============================] - 12s 146ms/step - loss: 0.9818 - accuracy: 0.6456 - val_loss: 0.5943 - val_accuracy: 0.8250\n",
            "Epoch 5/9\n",
            "80/80 [==============================] - 12s 147ms/step - loss: 0.6927 - accuracy: 0.7615 - val_loss: 0.4224 - val_accuracy: 0.9000\n",
            "Epoch 6/9\n",
            "80/80 [==============================] - 13s 164ms/step - loss: 0.5195 - accuracy: 0.8309 - val_loss: 0.3366 - val_accuracy: 0.9100\n",
            "Epoch 7/9\n",
            "80/80 [==============================] - 11s 140ms/step - loss: 0.3917 - accuracy: 0.8679 - val_loss: 0.4655 - val_accuracy: 0.8900\n",
            "Epoch 8/9\n",
            "80/80 [==============================] - 11s 139ms/step - loss: 0.3070 - accuracy: 0.8991 - val_loss: 0.3170 - val_accuracy: 0.9200\n",
            "Epoch 9/9\n",
            "80/80 [==============================] - 11s 140ms/step - loss: 0.2492 - accuracy: 0.9218 - val_loss: 0.3078 - val_accuracy: 0.9250\n",
            "******* evaluating network *******\n",
            "2/2 [==============================] - 0s 33ms/step\n",
            "              precision    recall  f1-score   support\n",
            "\n",
            "           0       0.94      0.85      0.89        20\n",
            "           1       0.95      0.95      0.95        20\n",
            "           2       1.00      0.90      0.95        20\n",
            "           3       0.95      0.90      0.92        20\n",
            "           4       0.91      1.00      0.95        20\n",
            "           5       1.00      1.00      1.00        20\n",
            "           6       1.00      0.95      0.97        20\n",
            "           7       1.00      0.80      0.89        20\n",
            "           8       0.86      0.95      0.90        20\n",
            "           9       0.73      0.95      0.83        20\n",
            "\n",
            "    accuracy                           0.93       200\n",
            "   macro avg       0.93      0.92      0.93       200\n",
            "weighted avg       0.93      0.93      0.93       200\n",
            "\n"
          ]
        }
      ],
      "source": [
        "intialize_model_train(model,9,100)"
      ]
    },
    {
      "cell_type": "code",
      "execution_count": 161,
      "metadata": {},
      "outputs": [],
      "source": [
        "def Save_Model(model):\n",
        "    #os.chdir(\"SavedModels\")\n",
        "    model.save(\"NN.h5\")\n",
        "\n",
        "Save_Model(model)\n"
      ]
    }
  ],
  "metadata": {
    "kernelspec": {
      "display_name": "Python 3",
      "language": "python",
      "name": "python3"
    },
    "language_info": {
      "codemirror_mode": {
        "name": "ipython",
        "version": 3
      },
      "file_extension": ".py",
      "mimetype": "text/x-python",
      "name": "python",
      "nbconvert_exporter": "python",
      "pygments_lexer": "ipython3",
      "version": "3.8.7"
    }
  },
  "nbformat": 4,
  "nbformat_minor": 2
}
