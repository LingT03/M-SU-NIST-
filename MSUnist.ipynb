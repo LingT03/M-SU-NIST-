{
  "cells": [
    {
      "cell_type": "markdown",
      "metadata": {},
      "source": [
        "<h1 align = \"center\"> MSU-NIST </h1>\n",
        "\n",
        "## CS:3210 Machine Learning Final Project\n",
        "### Professor: Feng Jiang \n",
        "\n",
        "\n",
        "#### Team Members:\n",
        "* **Ling Thang**\n",
        "* **Joaquin Trujillo**\n",
        "\n",
        "#### Project Description:\n",
        "For our Final project we have decided to work on the classic digit recognition problem. Taking a spin on the classic MNSIT dataset we have decided to collect our own dataset from study around the Auraria campus housing the three schools MSU Denver, CU Denver, and CCD. We decided to take this approach because we believe that as machine learning students it is not only important to understand not just the application of machine learning but also the data collection, cleaning, and preprocessing that goes into it. We believe that this will give us a better understanding of the process and the challenges that come with it as well as the importance of data quality."
      ]
    },
    {
      "cell_type": "code",
      "execution_count": 255,
      "metadata": {},
      "outputs": [],
      "source": [
        "# Standard library imports\n",
        "import os\n",
        "from PIL import Image\n",
        "\n",
        "# Third-party library imports\n",
        "import numpy as np\n",
        "import cv2\n",
        "\n",
        "from sklearn.model_selection import train_test_split\n",
        "from sklearn.metrics import classification_report\n",
        "\n",
        "from keras.models import Sequential\n",
        "from keras.layers import Dense, Flatten, Conv2D, MaxPooling2D, Dropout, BatchNormalization\n",
        "from keras.utils import to_categorical\n",
        "\n",
        "from tensorflow.keras.preprocessing.image import ImageDataGenerator\n",
        "from tensorflow.keras.optimizers import Adam"
      ]
    },
    {
      "cell_type": "markdown",
      "metadata": {},
      "source": [
        "# Naigate to the folder and create classes for Digit Recognition"
      ]
    },
    {
      "cell_type": "code",
      "execution_count": 256,
      "metadata": {},
      "outputs": [
        {
          "name": "stdout",
          "output_type": "stream",
          "text": [
            "['0', '1', '2', '3', '4', '5', '6', '7', '8', '9']\n"
          ]
        }
      ],
      "source": [
        "data_dir = 'Data'\n",
        "# classes but only the directories\n",
        "files = os.listdir(data_dir)\n",
        "classes = [f for f in files if os.path.isdir(os.path.join(data_dir, f))]\n",
        "\n",
        "print(sorted(classes))"
      ]
    },
    {
      "cell_type": "markdown",
      "metadata": {},
      "source": [
        "# Preprocessing the data \n",
        "\n",
        "## create two arrays X and y\n",
        "\n",
        "## Loop through the "
      ]
    },
    {
      "cell_type": "code",
      "execution_count": 257,
      "metadata": {},
      "outputs": [
        {
          "name": "stdout",
          "output_type": "stream",
          "text": [
            "0: 100\n",
            "8: 100\n",
            "1: 100\n",
            "5: 100\n",
            "9: 100\n",
            "2: 100\n",
            "7: 100\n",
            "4: 100\n",
            "3: 100\n",
            "6: 100\n",
            "(1000, 28, 28, 4)\n"
          ]
        }
      ],
      "source": [
        "# Create empty np arrarys to store the images and labels\n",
        "X = []\n",
        "y = []\n",
        "\n",
        "# Loop through the classes\n",
        "for i, c in enumerate(classes):\n",
        "    files = os.listdir(os.path.join(data_dir, c))\n",
        "    files = [f for f in files if f.endswith('.png')]\n",
        "    \n",
        "    # print the number of files in each class\n",
        "    print(f'{c}: {len(files)}')\n",
        "\n",
        "    # Loop through the images\n",
        "    for f in files:\n",
        "        img = Image.open(os.path.join(data_dir, c, f))\n",
        "        img = img.resize((28, 28))\n",
        "        img = np.array(img)\n",
        "        img = img / 255\n",
        "        img = img.astype(np.float32)\n",
        "        X.append(img)\n",
        "        y.append(i)\n",
        "\n",
        "# Convert lists to arrays\n",
        "X = np.array(X)\n",
        "y = np.array(y)\n",
        "\n",
        "print(X.shape)"
      ]
    },
    {
      "cell_type": "code",
      "execution_count": 258,
      "metadata": {},
      "outputs": [
        {
          "name": "stdout",
          "output_type": "stream",
          "text": [
            "(1000, 28, 28, 4)\n",
            "(1000,)\n",
            "X_train shape: (800, 28, 28, 4)\n",
            "(800, 10)\n"
          ]
        }
      ],
      "source": [
        "# print the shape of the arrays\n",
        "print(X.shape)\n",
        "print(y.shape)\n",
        "\n",
        "# Split the data into training and testing sets\n",
        "X_train, X_test, y_train, y_test = train_test_split(X, y, test_size=0.2, random_state=42)\n",
        "\n",
        "# Convert the labels to one-hot encoding\n",
        "y_train = to_categorical(y_train)\n",
        "y_test = to_categorical(y_test)\n",
        "\n",
        "# Save the data\n",
        "np.save('X_train.npy', X_train)\n",
        "np.save('X_test.npy', X_test)\n",
        "np.save('y_train.npy', y_train)\n",
        "np.save('y_test.npy', y_test)\n",
        "np.save('classes.npy', classes)\n",
        "\n",
        "#print('Data saved')\n",
        "print('X_train shape:', X_train.shape)\n",
        "print (y_train.shape)\n"
      ]
    },
    {
      "cell_type": "code",
      "execution_count": 259,
      "metadata": {},
      "outputs": [
        {
          "name": "stdout",
          "output_type": "stream",
          "text": [
            "Data loaded\n",
            "(800, 28, 28, 4)\n",
            "(200, 28, 28, 4)\n",
            "(800, 10)\n",
            "(200, 10)\n",
            "['0', '1', '2', '3', '4', '5', '6', '7', '8', '9']\n"
          ]
        }
      ],
      "source": [
        "# Load the data\n",
        "X_train = np.load('X_train.npy')\n",
        "X_test = np.load('X_test.npy')\n",
        "y_train = np.load('y_train.npy')\n",
        "y_test = np.load('y_test.npy')\n",
        "classes = np.load('classes.npy')\n",
        "\n",
        "print('Data loaded')\n",
        "print(X_train.shape)\n",
        "print(X_test.shape)\n",
        "print(y_train.shape)\n",
        "print(y_test.shape)\n",
        "print(sorted(classes))\n",
        "\n"
      ]
    },
    {
      "cell_type": "code",
      "execution_count": 260,
      "metadata": {},
      "outputs": [
        {
          "data": {
            "image/png": "[encoded data removed]",
            "text/plain": [
              "<Figure size 1000x500 with 10 Axes>"
            ]
          },
          "metadata": {},
          "output_type": "display_data"
        }
      ],
      "source": [
        "# print a random sample images\n",
        "import matplotlib.pyplot as plt\n",
        "\n",
        "fig, axes = plt.subplots(2, 5, figsize=(10, 5))\n",
        "axes = axes.ravel()\n",
        "\n",
        "for i in range(10):\n",
        "    idx = np.random.randint(0, X_train.shape[0])\n",
        "    axes[i].imshow(X_train[idx])\n",
        "    axes[i].set_title(classes[np.argmax(y_train[idx])])\n",
        "    axes[i].axis('off')\n",
        "\n",
        "plt.tight_layout()\n",
        "plt.show()"
      ]
    },
    {
      "cell_type": "code",
      "execution_count": 261,
      "metadata": {},
      "outputs": [
        {
          "name": "stdout",
          "output_type": "stream",
          "text": [
            "Shape of augmented dataset: (4000, 28, 28, 4)\n",
            "Shape of augmented labels: (4000, 10)\n"
          ]
        }
      ],
      "source": [
        "# data augmentation\n",
        "datagen = ImageDataGenerator(\n",
        "      rotation_range=10,  \n",
        "        zoom_range = 0.10,  \n",
        "        width_shift_range=0.1, \n",
        "        height_shift_range=0.1)\n",
        "\n",
        "augmented_X = []\n",
        "augmented_y = []\n",
        "\n",
        "# Generate augmented data for each sample in the dataset\n",
        "for i in range(len(X_train)):\n",
        "    X_train_example = X_train[i].reshape((1, 28, 28, 4))\n",
        "    y_train_example = y_train[i].reshape((1, 10))\n",
        "    num_augmented_samples = 5  # You can adjust the number of augmented samples per original sample\n",
        "    for _ in range(num_augmented_samples):\n",
        "        X_train_augmented, y_train_augmented = datagen.flow(X_train_example, y_train_example).__next__()\n",
        "        # Reshape augmented data to remove extra dizmension\n",
        "        X_train_augmented = X_train_augmented.squeeze(axis=0)\n",
        "        y_train_augmented = y_train_augmented.squeeze(axis=0)\n",
        "        augmented_X.append(X_train_augmented)\n",
        "        augmented_y.append(y_train_augmented)\n",
        "\n",
        "# Convert lists to numpy arrays\n",
        "augmented_X = np.array(augmented_X)\n",
        "augmented_y = np.array(augmented_y)\n",
        "\n",
        "# Print the shape of the augmented dataset\n",
        "print(\"Shape of augmented dataset:\", augmented_X.shape)\n",
        "print(\"Shape of augmented labels:\", augmented_y.shape)"
      ]
    },
    {
      "cell_type": "code",
      "execution_count": 262,
      "metadata": {},
      "outputs": [
        {
          "name": "stderr",
          "output_type": "stream",
          "text": [
            "/home/powoly/.local/lib/python3.10/site-packages/keras/src/layers/convolutional/base_conv.py:107: UserWarning: Do not pass an `input_shape`/`input_dim` argument to a layer. When using Sequential models, prefer using an `Input(shape)` object as the first layer in the model instead.\n",
            "  super().__init__(activity_regularizer=activity_regularizer, **kwargs)\n"
          ]
        }
      ],
      "source": [
        "model = Sequential()\n",
        "model.add(Conv2D(32, kernel_size=(3, 3), padding=\"same\", activation='relu', input_shape=(28, 28, 4)))\n",
        "model.add(MaxPooling2D(pool_size=(2, 2)))\n",
        "model.add(Conv2D(64, kernel_size=(3, 3), padding=\"same\", activation='relu'))\n",
        "model.add(MaxPooling2D(pool_size=(2, 2)))\n",
        "model.add(Conv2D(128, kernel_size=(3, 3), padding=\"same\", activation='relu'))\n",
        "model.add(MaxPooling2D(pool_size=(2, 2)))\n",
        "model.add(Flatten())\n",
        "model.add(Dense(256, activation='relu'))\n",
        "model.add(Dropout(0.5))\n",
        "model.add(Dense(128, activation='relu'))\n",
        "model.add(Dropout(0.5))\n",
        "model.add(Dense(10, activation='softmax'))\n",
        "\n",
        "\n",
        "def intialize_model_train(model,epoch, batch_size):\n",
        "\tprint(\"******* training network *******\")\n",
        "# Compile the model with Adam optimizer\n",
        "\tadam_optimizer = Adam(learning_rate=0.001)  # You can adjust the learning rate as needed\n",
        "\tmodel.compile(loss=\"categorical_crossentropy\", optimizer=adam_optimizer, metrics=[\"accuracy\"])\n",
        "\t# go through the data 5 times with 128 batch sizes\n",
        "\tH = model.fit(augmented_X,augmented_y, validation_data=(X_test, y_test),\n",
        "\t\tepochs=epoch, batch_size=batch_size)\n",
        "\n",
        "\t# evaluate the network\n",
        "\tprint(\"******* evaluating network *******\")\n",
        "\tpredictions = model.predict(X_test, batch_size=batch_size)\n",
        "\tprint(classification_report(y_test.argmax(axis=1),\n",
        "\t\tpredictions.argmax(axis=1)))"
      ]
    },
    {
      "cell_type": "code",
      "execution_count": 263,
      "metadata": {},
      "outputs": [
        {
          "name": "stdout",
          "output_type": "stream",
          "text": [
            "******* training network *******\n",
            "Epoch 1/9\n",
            "\u001b[1m73/73\u001b[0m \u001b[32m━━━━━━━━━━━━━━━━━━━━\u001b[0m\u001b[37m\u001b[0m \u001b[1m2s\u001b[0m 16ms/step - accuracy: 0.1013 - loss: 2.3179 - val_accuracy: 0.0650 - val_loss: 2.3146\n",
            "Epoch 2/9\n",
            "\u001b[1m73/73\u001b[0m \u001b[32m━━━━━━━━━━━━━━━━━━━━\u001b[0m\u001b[37m\u001b[0m \u001b[1m1s\u001b[0m 14ms/step - accuracy: 0.1022 - loss: 2.3008 - val_accuracy: 0.0650 - val_loss: 2.3152\n",
            "Epoch 3/9\n",
            "\u001b[1m73/73\u001b[0m \u001b[32m━━━━━━━━━━━━━━━━━━━━\u001b[0m\u001b[37m\u001b[0m \u001b[1m1s\u001b[0m 14ms/step - accuracy: 0.1177 - loss: 2.2849 - val_accuracy: 0.2850 - val_loss: 1.9306\n",
            "Epoch 4/9\n",
            "\u001b[1m73/73\u001b[0m \u001b[32m━━━━━━━━━━━━━━━━━━━━\u001b[0m\u001b[37m\u001b[0m \u001b[1m1s\u001b[0m 14ms/step - accuracy: 0.2943 - loss: 1.9643 - val_accuracy: 0.7000 - val_loss: 1.0920\n",
            "Epoch 5/9\n",
            "\u001b[1m73/73\u001b[0m \u001b[32m━━━━━━━━━━━━━━━━━━━━\u001b[0m\u001b[37m\u001b[0m \u001b[1m1s\u001b[0m 14ms/step - accuracy: 0.4951 - loss: 1.4384 - val_accuracy: 0.7900 - val_loss: 0.7162\n",
            "Epoch 6/9\n",
            "\u001b[1m73/73\u001b[0m \u001b[32m━━━━━━━━━━━━━━━━━━━━\u001b[0m\u001b[37m\u001b[0m \u001b[1m1s\u001b[0m 14ms/step - accuracy: 0.6327 - loss: 1.0709 - val_accuracy: 0.8550 - val_loss: 0.4988\n",
            "Epoch 7/9\n",
            "\u001b[1m73/73\u001b[0m \u001b[32m━━━━━━━━━━━━━━━━━━━━\u001b[0m\u001b[37m\u001b[0m \u001b[1m1s\u001b[0m 14ms/step - accuracy: 0.7216 - loss: 0.8302 - val_accuracy: 0.8650 - val_loss: 0.3572\n",
            "Epoch 8/9\n",
            "\u001b[1m73/73\u001b[0m \u001b[32m━━━━━━━━━━━━━━━━━━━━\u001b[0m\u001b[37m\u001b[0m \u001b[1m1s\u001b[0m 15ms/step - accuracy: 0.7736 - loss: 0.6568 - val_accuracy: 0.8850 - val_loss: 0.3101\n",
            "Epoch 9/9\n",
            "\u001b[1m73/73\u001b[0m \u001b[32m━━━━━━━━━━━━━━━━━━━━\u001b[0m\u001b[37m\u001b[0m \u001b[1m1s\u001b[0m 14ms/step - accuracy: 0.8177 - loss: 0.5556 - val_accuracy: 0.9000 - val_loss: 0.2983\n",
            "******* evaluating network *******\n",
            "WARNING:tensorflow:5 out of the last 13 calls to <function TensorFlowTrainer.make_predict_function.<locals>.one_step_on_data_distributed at 0x79348a969f30> triggered tf.function retracing. Tracing is expensive and the excessive number of tracings could be due to (1) creating @tf.function repeatedly in a loop, (2) passing tensors with different shapes, (3) passing Python objects instead of tensors. For (1), please define your @tf.function outside of the loop. For (2), @tf.function has reduce_retracing=True option that can avoid unnecessary retracing. For (3), please refer to https://www.tensorflow.org/guide/function#controlling_retracing and https://www.tensorflow.org/api_docs/python/tf/function for  more details.\n"
          ]
        },
        {
          "name": "stderr",
          "output_type": "stream",
          "text": [
            "WARNING:tensorflow:5 out of the last 13 calls to <function TensorFlowTrainer.make_predict_function.<locals>.one_step_on_data_distributed at 0x79348a969f30> triggered tf.function retracing. Tracing is expensive and the excessive number of tracings could be due to (1) creating @tf.function repeatedly in a loop, (2) passing tensors with different shapes, (3) passing Python objects instead of tensors. For (1), please define your @tf.function outside of the loop. For (2), @tf.function has reduce_retracing=True option that can avoid unnecessary retracing. For (3), please refer to https://www.tensorflow.org/guide/function#controlling_retracing and https://www.tensorflow.org/api_docs/python/tf/function for  more details.\n"
          ]
        },
        {
          "name": "stdout",
          "output_type": "stream",
          "text": [
            "\u001b[1m1/4\u001b[0m \u001b[32m━━━━━\u001b[0m\u001b[37m━━━━━━━━━━━━━━━\u001b[0m \u001b[1m0s\u001b[0m 41ms/stepWARNING:tensorflow:5 out of the last 12 calls to <function TensorFlowTrainer.make_predict_function.<locals>.one_step_on_data_distributed at 0x79348a969f30> triggered tf.function retracing. Tracing is expensive and the excessive number of tracings could be due to (1) creating @tf.function repeatedly in a loop, (2) passing tensors with different shapes, (3) passing Python objects instead of tensors. For (1), please define your @tf.function outside of the loop. For (2), @tf.function has reduce_retracing=True option that can avoid unnecessary retracing. For (3), please refer to https://www.tensorflow.org/guide/function#controlling_retracing and https://www.tensorflow.org/api_docs/python/tf/function for  more details.\n"
          ]
        },
        {
          "name": "stderr",
          "output_type": "stream",
          "text": [
            "WARNING:tensorflow:5 out of the last 12 calls to <function TensorFlowTrainer.make_predict_function.<locals>.one_step_on_data_distributed at 0x79348a969f30> triggered tf.function retracing. Tracing is expensive and the excessive number of tracings could be due to (1) creating @tf.function repeatedly in a loop, (2) passing tensors with different shapes, (3) passing Python objects instead of tensors. For (1), please define your @tf.function outside of the loop. For (2), @tf.function has reduce_retracing=True option that can avoid unnecessary retracing. For (3), please refer to https://www.tensorflow.org/guide/function#controlling_retracing and https://www.tensorflow.org/api_docs/python/tf/function for  more details.\n"
          ]
        },
        {
          "name": "stdout",
          "output_type": "stream",
          "text": [
            "\u001b[1m4/4\u001b[0m \u001b[32m━━━━━━━━━━━━━━━━━━━━\u001b[0m\u001b[37m\u001b[0m \u001b[1m0s\u001b[0m 13ms/step\n",
            "              precision    recall  f1-score   support\n",
            "\n",
            "           0       0.95      0.95      0.95        20\n",
            "           1       0.83      0.77      0.80        13\n",
            "           2       0.96      1.00      0.98        27\n",
            "           3       0.87      0.62      0.72        21\n",
            "           4       0.93      0.93      0.93        15\n",
            "           5       0.91      0.91      0.91        22\n",
            "           6       0.92      0.96      0.94        25\n",
            "           7       0.93      1.00      0.96        13\n",
            "           8       0.75      0.91      0.82        23\n",
            "           9       0.95      0.90      0.93        21\n",
            "\n",
            "    accuracy                           0.90       200\n",
            "   macro avg       0.90      0.90      0.90       200\n",
            "weighted avg       0.90      0.90      0.90       200\n",
            "\n"
          ]
        }
      ],
      "source": [
        "intialize_model_train(model,9,55)"
      ]
    },
    {
      "cell_type": "code",
      "execution_count": 264,
      "metadata": {},
      "outputs": [
        {
          "name": "stderr",
          "output_type": "stream",
          "text": [
            "WARNING:absl:You are saving your model as an HDF5 file via `model.save()` or `keras.saving.save_model(model)`. This file format is considered legacy. We recommend using instead the native Keras format, e.g. `model.save('my_model.keras')` or `keras.saving.save_model(model, 'my_model.keras')`. \n"
          ]
        }
      ],
      "source": [
        "def Save_Model(model):\n",
        "    #os.chdir(\"SavedModels\")\n",
        "    model.save(\"NN.h5\")\n",
        "\n",
        "Save_Model(model)\n"
      ]
    }
  ],
  "metadata": {
    "kernelspec": {
      "display_name": "Python 3",
      "language": "python",
      "name": "python3"
    },
    "language_info": {
      "codemirror_mode": {
        "name": "ipython",
        "version": 3
      },
      "file_extension": ".py",
      "mimetype": "text/x-python",
      "name": "python",
      "nbconvert_exporter": "python",
      "pygments_lexer": "ipython3",
      "version": "3.8.7"
    }
  },
  "nbformat": 4,
  "nbformat_minor": 2
}
