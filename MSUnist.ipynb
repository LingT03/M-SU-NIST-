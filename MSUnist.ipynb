{
  "cells": [
    {
      "cell_type": "markdown",
      "metadata": {},
      "source": [
        "<h1 align = \"center\"> MSU-NIST </h1>\n",
        "\n",
        "## CS:3210 Machine Learning Final Project\n",
        "### Professor: Feng Jiang \n",
        "\n",
        "\n",
        "#### Team Members:\n",
        "* **Ling Thang**\n",
        "* **Joaquin Trujillo**\n",
        "\n",
        "#### Project Description:\n",
        "For our Final project we have decided to work on the classic digit recognition problem. Taking a spin on the classic MNSIT dataset we have decided to collect our own dataset from study around the Auraria campus housing the three schools MSU Denver, CU Denver, and CCD. We decided to take this approach because we believe that as machine learning students it is not only important to understand not just the application of machine learning but also the data collection, cleaning, and preprocessing that goes into it. We believe that this will give us a better understanding of the process and the challenges that come with it as well as the importance of data quality."
      ]
    },
    {
      "cell_type": "code",
      "execution_count": 236,
      "metadata": {},
      "outputs": [],
      "source": [
        "# Standard library imports\n",
        "import os\n",
        "from PIL import Image\n",
        "\n",
        "# Third-party library imports\n",
        "import numpy as np\n",
        "import cv2\n",
        "\n",
        "from sklearn.model_selection import train_test_split\n",
        "from sklearn.metrics import classification_report\n",
        "\n",
        "from keras.models import Sequential\n",
        "from keras.layers import Dense, Flatten, Conv2D, MaxPooling2D, Dropout, BatchNormalization\n",
        "from keras.utils import to_categorical\n",
        "\n",
        "from tensorflow.keras.preprocessing.image import ImageDataGenerator\n",
        "from tensorflow.keras.optimizers import Adam"
      ]
    },
    {
      "cell_type": "markdown",
      "metadata": {},
      "source": [
        "# Naigate to the folder and create classes for Digit Recognition"
      ]
    },
    {
      "cell_type": "code",
      "execution_count": 237,
      "metadata": {},
      "outputs": [
        {
          "name": "stdout",
          "output_type": "stream",
          "text": [
            "['0', '1', '2', '3', '4', '5', '6', '7', '8', '9']\n"
          ]
        }
      ],
      "source": [
        "data_dir = 'Data'\n",
        "# classes but only the directories\n",
        "files = os.listdir(data_dir)\n",
        "classes = [f for f in files if os.path.isdir(os.path.join(data_dir, f))]\n",
        "\n",
        "print(sorted(classes))"
      ]
    },
    {
      "cell_type": "markdown",
      "metadata": {},
      "source": [
        "# Preprocessing the data \n",
        "\n",
        "## create two arrays X and y\n",
        "\n",
        "## Loop through the "
      ]
    },
    {
      "cell_type": "code",
      "execution_count": 238,
      "metadata": {},
      "outputs": [
        {
          "name": "stdout",
          "output_type": "stream",
          "text": [
            "0: 100\n",
            "8: 100\n",
            "1: 100\n",
            "5: 100\n",
            "9: 100\n",
            "2: 100\n",
            "7: 100\n",
            "4: 100\n",
            "3: 100\n",
            "6: 100\n",
            "(1000, 28, 28, 4)\n"
          ]
        }
      ],
      "source": [
        "# Create empty np arrarys to store the images and labels\n",
        "X = []\n",
        "y = []\n",
        "\n",
        "# Loop through the classes\n",
        "for i, c in enumerate(classes):\n",
        "    files = os.listdir(os.path.join(data_dir, c))\n",
        "    files = [f for f in files if f.endswith('.png')]\n",
        "    \n",
        "    # print the number of files in each class\n",
        "    print(f'{c}: {len(files)}')\n",
        "\n",
        "    # Loop through the images\n",
        "    for f in files:\n",
        "        img = Image.open(os.path.join(data_dir, c, f))\n",
        "        img = img.resize((28, 28))\n",
        "        img = np.array(img)\n",
        "        img = img / 255\n",
        "        img = img.astype(np.float32)\n",
        "        X.append(img)\n",
        "        y.append(i)\n",
        "\n",
        "# Convert lists to arrays\n",
        "X = np.array(X)\n",
        "y = np.array(y)\n",
        "\n",
        "print(X.shape)"
      ]
    },
    {
      "cell_type": "code",
      "execution_count": 239,
      "metadata": {},
      "outputs": [
        {
          "name": "stdout",
          "output_type": "stream",
          "text": [
            "(1000, 28, 28, 4)\n",
            "(1000,)\n",
            "X_train shape: (800, 28, 28, 4)\n",
            "(800, 10)\n"
          ]
        }
      ],
      "source": [
        "# print the shape of the arrays\n",
        "print(X.shape)\n",
        "print(y.shape)\n",
        "\n",
        "# Split the data into training and testing sets\n",
        "X_train, X_test, y_train, y_test = train_test_split(X, y, test_size=0.2, random_state=42)\n",
        "\n",
        "# Convert the labels to one-hot encoding\n",
        "y_train = to_categorical(y_train)\n",
        "y_test = to_categorical(y_test)\n",
        "\n",
        "# Save the data\n",
        "np.save('X_train.npy', X_train)\n",
        "np.save('X_test.npy', X_test)\n",
        "np.save('y_train.npy', y_train)\n",
        "np.save('y_test.npy', y_test)\n",
        "np.save('classes.npy', classes)\n",
        "\n",
        "#print('Data saved')\n",
        "print('X_train shape:', X_train.shape)\n",
        "print (y_train.shape)\n"
      ]
    },
    {
      "cell_type": "code",
      "execution_count": 240,
      "metadata": {},
      "outputs": [
        {
          "name": "stdout",
          "output_type": "stream",
          "text": [
            "Data loaded\n",
            "(800, 28, 28, 4)\n",
            "(200, 28, 28, 4)\n",
            "(800, 10)\n",
            "(200, 10)\n",
            "['0', '1', '2', '3', '4', '5', '6', '7', '8', '9']\n"
          ]
        }
      ],
      "source": [
        "# Load the data\n",
        "X_train = np.load('X_train.npy')\n",
        "X_test = np.load('X_test.npy')\n",
        "y_train = np.load('y_train.npy')\n",
        "y_test = np.load('y_test.npy')\n",
        "classes = np.load('classes.npy')\n",
        "\n",
        "print('Data loaded')\n",
        "print(X_train.shape)\n",
        "print(X_test.shape)\n",
        "print(y_train.shape)\n",
        "print(y_test.shape)\n",
        "print(sorted(classes))\n",
        "\n"
      ]
    },
    {
      "cell_type": "code",
      "execution_count": 241,
      "metadata": {},
      "outputs": [
        {
          "data": {
            "image/png": "[encoded data removed]",
            "text/plain": [
              "<Figure size 1000x500 with 10 Axes>"
            ]
          },
          "metadata": {},
          "output_type": "display_data"
        }
      ],
      "source": [
        "# print a random sample images\n",
        "import matplotlib.pyplot as plt\n",
        "\n",
        "fig, axes = plt.subplots(2, 5, figsize=(10, 5))\n",
        "axes = axes.ravel()\n",
        "\n",
        "for i in range(10):\n",
        "    idx = np.random.randint(0, X_train.shape[0])\n",
        "    axes[i].imshow(X_train[idx])\n",
        "    axes[i].set_title(classes[np.argmax(y_train[idx])])\n",
        "    axes[i].axis('off')\n",
        "\n",
        "plt.tight_layout()\n",
        "plt.show()"
      ]
    },
    {
      "cell_type": "code",
      "execution_count": 242,
      "metadata": {},
      "outputs": [
        {
          "name": "stdout",
          "output_type": "stream",
          "text": [
            "Shape of augmented dataset: (4000, 28, 28, 4)\n",
            "Shape of augmented labels: (4000, 10)\n"
          ]
        }
      ],
      "source": [
        "# data augmentation\n",
        "datagen = ImageDataGenerator(\n",
        "      rotation_range=10,  \n",
        "        zoom_range = 0.10,  \n",
        "        width_shift_range=0.1, \n",
        "        height_shift_range=0.1)\n",
        "\n",
        "augmented_X = []\n",
        "augmented_y = []\n",
        "\n",
        "# Generate augmented data for each sample in the dataset\n",
        "for i in range(len(X_train)):\n",
        "    X_train_example = X_train[i].reshape((1, 28, 28, 4))\n",
        "    y_train_example = y_train[i].reshape((1, 10))\n",
        "    num_augmented_samples = 5  # You can adjust the number of augmented samples per original sample\n",
        "    for _ in range(num_augmented_samples):\n",
        "        X_train_augmented, y_train_augmented = datagen.flow(X_train_example, y_train_example).__next__()\n",
        "        # Reshape augmented data to remove extra dizmension\n",
        "        X_train_augmented = X_train_augmented.squeeze(axis=0)\n",
        "        y_train_augmented = y_train_augmented.squeeze(axis=0)\n",
        "        augmented_X.append(X_train_augmented)\n",
        "        augmented_y.append(y_train_augmented)\n",
        "\n",
        "# Convert lists to numpy arrays\n",
        "augmented_X = np.array(augmented_X)\n",
        "augmented_y = np.array(augmented_y)\n",
        "\n",
        "# Print the shape of the augmented dataset\n",
        "print(\"Shape of augmented dataset:\", augmented_X.shape)\n",
        "print(\"Shape of augmented labels:\", augmented_y.shape)"
      ]
    },
    {
      "cell_type": "code",
      "execution_count": 243,
      "metadata": {},
      "outputs": [],
      "source": [
        "def intialize_model_train(epoch, batch_size):\n",
        "\tmodel = Sequential()\n",
        "\tmodel.add(Conv2D(32, kernel_size=(3, 3), padding=\"same\", activation='relu', input_shape=(28, 28, 4)))\n",
        "\tmodel.add(MaxPooling2D(pool_size=(2, 2)))\n",
        "\tmodel.add(Conv2D(64, kernel_size=(3, 3), padding=\"same\", activation='relu'))\n",
        "\tmodel.add(MaxPooling2D(pool_size=(2, 2)))\n",
        "\tmodel.add(Conv2D(128, kernel_size=(3, 3), padding=\"same\", activation='relu'))\n",
        "\tmodel.add(MaxPooling2D(pool_size=(2, 2)))\n",
        "\tmodel.add(Flatten())\n",
        "\tmodel.add(Dense(256, activation='relu'))\n",
        "\tmodel.add(Dropout(0.5))\n",
        "\tmodel.add(Dense(128, activation='relu'))\n",
        "\tmodel.add(Dropout(0.5))\n",
        "\tmodel.add(Dense(10, activation='softmax'))\n",
        "\n",
        "\n",
        "\tprint(\"******* training network *******\")\n",
        "# Compile the model with Adam optimizer\n",
        "\tadam_optimizer = Adam(learning_rate=0.001)  # You can adjust the learning rate as needed\n",
        "\tmodel.compile(loss=\"categorical_crossentropy\", optimizer=adam_optimizer, metrics=[\"accuracy\"])\n",
        "\t# go through the data 5 times with 128 batch sizes\n",
        "\tH = model.fit(augmented_X,augmented_y, validation_data=(X_test, y_test),\n",
        "\t\tepochs=epoch, batch_size=batch_size)\n",
        "\n",
        "\t# evaluate the network\n",
        "\tprint(\"******* evaluating network *******\")\n",
        "\tpredictions = model.predict(X_test, batch_size=batch_size)\n",
        "\tprint(classification_report(y_test.argmax(axis=1),\n",
        "\t\tpredictions.argmax(axis=1)))"
      ]
    },
    {
      "cell_type": "code",
      "execution_count": 244,
      "metadata": {},
      "outputs": [
        {
          "name": "stdout",
          "output_type": "stream",
          "text": [
            "******* training network *******\n",
            "Epoch 1/8\n"
          ]
        },
        {
          "name": "stderr",
          "output_type": "stream",
          "text": [
            "/home/powoly/.local/lib/python3.10/site-packages/keras/src/layers/convolutional/base_conv.py:107: UserWarning: Do not pass an `input_shape`/`input_dim` argument to a layer. When using Sequential models, prefer using an `Input(shape)` object as the first layer in the model instead.\n",
            "  super().__init__(activity_regularizer=activity_regularizer, **kwargs)\n"
          ]
        },
        {
          "name": "stdout",
          "output_type": "stream",
          "text": [
            "\u001b[1m80/80\u001b[0m \u001b[32m━━━━━━━━━━━━━━━━━━━━\u001b[0m\u001b[37m\u001b[0m \u001b[1m2s\u001b[0m 15ms/step - accuracy: 0.1007 - loss: 2.3119 - val_accuracy: 0.0750 - val_loss: 2.3082\n",
            "Epoch 2/8\n",
            "\u001b[1m80/80\u001b[0m \u001b[32m━━━━━━━━━━━━━━━━━━━━\u001b[0m\u001b[37m\u001b[0m \u001b[1m1s\u001b[0m 13ms/step - accuracy: 0.1293 - loss: 2.2918 - val_accuracy: 0.2750 - val_loss: 2.0073\n",
            "Epoch 3/8\n",
            "\u001b[1m80/80\u001b[0m \u001b[32m━━━━━━━━━━━━━━━━━━━━\u001b[0m\u001b[37m\u001b[0m \u001b[1m1s\u001b[0m 13ms/step - accuracy: 0.2837 - loss: 1.9961 - val_accuracy: 0.6700 - val_loss: 1.0774\n",
            "Epoch 4/8\n",
            "\u001b[1m80/80\u001b[0m \u001b[32m━━━━━━━━━━━━━━━━━━━━\u001b[0m\u001b[37m\u001b[0m \u001b[1m1s\u001b[0m 13ms/step - accuracy: 0.4861 - loss: 1.4369 - val_accuracy: 0.7100 - val_loss: 0.7914\n",
            "Epoch 5/8\n",
            "\u001b[1m80/80\u001b[0m \u001b[32m━━━━━━━━━━━━━━━━━━━━\u001b[0m\u001b[37m\u001b[0m \u001b[1m1s\u001b[0m 13ms/step - accuracy: 0.5968 - loss: 1.1125 - val_accuracy: 0.8200 - val_loss: 0.5267\n",
            "Epoch 6/8\n",
            "\u001b[1m80/80\u001b[0m \u001b[32m━━━━━━━━━━━━━━━━━━━━\u001b[0m\u001b[37m\u001b[0m \u001b[1m1s\u001b[0m 13ms/step - accuracy: 0.6786 - loss: 0.8740 - val_accuracy: 0.8600 - val_loss: 0.4489\n",
            "Epoch 7/8\n",
            "\u001b[1m80/80\u001b[0m \u001b[32m━━━━━━━━━━━━━━━━━━━━\u001b[0m\u001b[37m\u001b[0m \u001b[1m1s\u001b[0m 13ms/step - accuracy: 0.7505 - loss: 0.7380 - val_accuracy: 0.8700 - val_loss: 0.3987\n",
            "Epoch 8/8\n",
            "\u001b[1m80/80\u001b[0m \u001b[32m━━━━━━━━━━━━━━━━━━━━\u001b[0m\u001b[37m\u001b[0m \u001b[1m1s\u001b[0m 13ms/step - accuracy: 0.7885 - loss: 0.6068 - val_accuracy: 0.8750 - val_loss: 0.3396\n",
            "******* evaluating network *******\n",
            "\u001b[1m4/4\u001b[0m \u001b[32m━━━━━━━━━━━━━━━━━━━━\u001b[0m\u001b[37m\u001b[0m \u001b[1m0s\u001b[0m 3ms/step \n",
            "              precision    recall  f1-score   support\n",
            "\n",
            "           0       1.00      0.95      0.97        20\n",
            "           1       0.85      0.85      0.85        13\n",
            "           2       0.93      1.00      0.96        27\n",
            "           3       0.77      0.81      0.79        21\n",
            "           4       0.80      0.80      0.80        15\n",
            "           5       0.91      0.91      0.91        22\n",
            "           6       0.88      0.92      0.90        25\n",
            "           7       0.79      0.85      0.81        13\n",
            "           8       0.93      0.61      0.74        23\n",
            "           9       0.84      1.00      0.91        21\n",
            "\n",
            "    accuracy                           0.88       200\n",
            "   macro avg       0.87      0.87      0.87       200\n",
            "weighted avg       0.88      0.88      0.87       200\n",
            "\n"
          ]
        }
      ],
      "source": [
        "intialize_model_train(8,50)"
      ]
    }
  ],
  "metadata": {
    "kernelspec": {
      "display_name": "Python 3",
      "language": "python",
      "name": "python3"
    },
    "language_info": {
      "codemirror_mode": {
        "name": "ipython",
        "version": 3
      },
      "file_extension": ".py",
      "mimetype": "text/x-python",
      "name": "python",
      "nbconvert_exporter": "python",
      "pygments_lexer": "ipython3",
      "version": "3.12.2"
    }
  },
  "nbformat": 4,
  "nbformat_minor": 2
}
